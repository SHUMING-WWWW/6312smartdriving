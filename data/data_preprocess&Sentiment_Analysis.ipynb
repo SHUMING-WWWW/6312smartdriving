{
 "cells": [
  {
   "cell_type": "code",
   "execution_count": 1,
   "id": "ca02012c-707b-4c1a-a73e-8461f475b71d",
   "metadata": {},
   "outputs": [],
   "source": [
    "import pandas as pd\n",
    "import nltk\n",
    "from nltk.corpus import stopwords, wordnet\n",
    "from nltk.stem import WordNetLemmatizer\n",
    "import contractions\n",
    "import re"
   ]
  },
  {
   "cell_type": "code",
   "execution_count": 2,
   "id": "cf1419de-682b-4147-83d2-743c83ca442a",
   "metadata": {},
   "outputs": [],
   "source": [
    "data = pd.read_csv('Autonomous_Driving_Tweets.csv', encoding='latin1')"
   ]
  },
  {
   "cell_type": "code",
   "execution_count": 3,
   "id": "e125f117-b9fd-423c-b6b4-25c37f5c0dd7",
   "metadata": {},
   "outputs": [
    {
     "data": {
      "text/html": [
       "<div>\n",
       "<style scoped>\n",
       "    .dataframe tbody tr th:only-of-type {\n",
       "        vertical-align: middle;\n",
       "    }\n",
       "\n",
       "    .dataframe tbody tr th {\n",
       "        vertical-align: top;\n",
       "    }\n",
       "\n",
       "    .dataframe thead th {\n",
       "        text-align: right;\n",
       "    }\n",
       "</style>\n",
       "<table border=\"1\" class=\"dataframe\">\n",
       "  <thead>\n",
       "    <tr style=\"text-align: right;\">\n",
       "      <th></th>\n",
       "      <th>chatgpt_data_id</th>\n",
       "      <th>twitter_id</th>\n",
       "      <th>typename</th>\n",
       "      <th>user_rest_id</th>\n",
       "      <th>user_name</th>\n",
       "      <th>user_screen_name</th>\n",
       "      <th>user_followers_count</th>\n",
       "      <th>user_url</th>\n",
       "      <th>full_text</th>\n",
       "      <th>favorite_count</th>\n",
       "      <th>bookmark_count</th>\n",
       "      <th>reply_count</th>\n",
       "      <th>retweet_count</th>\n",
       "      <th>quote_count</th>\n",
       "      <th>lang</th>\n",
       "      <th>created_at</th>\n",
       "      <th>keyword</th>\n",
       "      <th>date_start</th>\n",
       "      <th>date_end</th>\n",
       "      <th>is_retweet</th>\n",
       "    </tr>\n",
       "  </thead>\n",
       "  <tbody>\n",
       "    <tr>\n",
       "      <th>0</th>\n",
       "      <td>781753</td>\n",
       "      <td>1815534826159779922</td>\n",
       "      <td>Tweet</td>\n",
       "      <td>537778485</td>\n",
       "      <td>International Daily News</td>\n",
       "      <td>mggjrb</td>\n",
       "      <td>7263</td>\n",
       "      <td>https://pbs.twimg.com/profile_banners/53777848...</td>\n",
       "      <td>On Qingdao Zhongshan Road, a silver-gray drive...</td>\n",
       "      <td>1</td>\n",
       "      <td>0</td>\n",
       "      <td>0</td>\n",
       "      <td>0</td>\n",
       "      <td>0</td>\n",
       "      <td>en</td>\n",
       "      <td>Mon Jul 22 23:50:08 +0000 2024</td>\n",
       "      <td>NaN</td>\n",
       "      <td>Driverless Car</td>\n",
       "      <td>until:2024-07-23 since:2024-06-23</td>\n",
       "      <td>NaN</td>\n",
       "    </tr>\n",
       "    <tr>\n",
       "      <th>1</th>\n",
       "      <td>781754</td>\n",
       "      <td>1815534769121423808</td>\n",
       "      <td>Tweet</td>\n",
       "      <td>879124379451351041</td>\n",
       "      <td>Amazing Qingdao</td>\n",
       "      <td>QingdaoAmazing</td>\n",
       "      <td>14166</td>\n",
       "      <td>https://pbs.twimg.com/profile_banners/87912437...</td>\n",
       "      <td>On Qingdao Zhongshan Road, a silver-gray drive...</td>\n",
       "      <td>1</td>\n",
       "      <td>0</td>\n",
       "      <td>0</td>\n",
       "      <td>1</td>\n",
       "      <td>0</td>\n",
       "      <td>en</td>\n",
       "      <td>Mon Jul 22 23:49:54 +0000 2024</td>\n",
       "      <td>NaN</td>\n",
       "      <td>Driverless Car</td>\n",
       "      <td>until:2024-07-23 since:2024-06-23</td>\n",
       "      <td>NaN</td>\n",
       "    </tr>\n",
       "    <tr>\n",
       "      <th>2</th>\n",
       "      <td>781755</td>\n",
       "      <td>1815533426952261976</td>\n",
       "      <td>Tweet</td>\n",
       "      <td>1543154052371922944</td>\n",
       "      <td>Hon Hai International</td>\n",
       "      <td>zhouguoqing2188</td>\n",
       "      <td>152</td>\n",
       "      <td>https://pbs.twimg.com/profile_banners/15431540...</td>\n",
       "      <td>@elonmusk Brother Ma, does your Tesla driverle...</td>\n",
       "      <td>0</td>\n",
       "      <td>0</td>\n",
       "      <td>2</td>\n",
       "      <td>0</td>\n",
       "      <td>0</td>\n",
       "      <td>en</td>\n",
       "      <td>Mon Jul 22 23:44:34 +0000 2024</td>\n",
       "      <td>NaN</td>\n",
       "      <td>Driverless Car</td>\n",
       "      <td>until:2024-07-23 since:2024-06-23</td>\n",
       "      <td>NaN</td>\n",
       "    </tr>\n",
       "    <tr>\n",
       "      <th>3</th>\n",
       "      <td>781758</td>\n",
       "      <td>1815493523640340979</td>\n",
       "      <td>Tweet</td>\n",
       "      <td>952170209955098624</td>\n",
       "      <td>Mr. Hello</td>\n",
       "      <td>Hello_Yar_</td>\n",
       "      <td>744</td>\n",
       "      <td>NaN</td>\n",
       "      <td>@visualfeastwang Wow, Driverless car_ China is...</td>\n",
       "      <td>5</td>\n",
       "      <td>0</td>\n",
       "      <td>0</td>\n",
       "      <td>0</td>\n",
       "      <td>0</td>\n",
       "      <td>en</td>\n",
       "      <td>Mon Jul 22 21:06:00 +0000 2024</td>\n",
       "      <td>NaN</td>\n",
       "      <td>Driverless Car</td>\n",
       "      <td>until:2024-07-23 since:2024-06-23</td>\n",
       "      <td>NaN</td>\n",
       "    </tr>\n",
       "    <tr>\n",
       "      <th>4</th>\n",
       "      <td>781759</td>\n",
       "      <td>1815493125298667594</td>\n",
       "      <td>Tweet</td>\n",
       "      <td>1811099070896738304</td>\n",
       "      <td>Time Traveler</td>\n",
       "      <td>time_travel_now</td>\n",
       "      <td>105</td>\n",
       "      <td>https://pbs.twimg.com/profile_banners/18110990...</td>\n",
       "      <td>@Kling_ai Translation: In 2028, the driverless...</td>\n",
       "      <td>0</td>\n",
       "      <td>0</td>\n",
       "      <td>1</td>\n",
       "      <td>0</td>\n",
       "      <td>0</td>\n",
       "      <td>en</td>\n",
       "      <td>Mon Jul 22 21:04:25 +0000 2024</td>\n",
       "      <td>NaN</td>\n",
       "      <td>Driverless Car</td>\n",
       "      <td>until:2024-07-23 since:2024-06-23</td>\n",
       "      <td>NaN</td>\n",
       "    </tr>\n",
       "  </tbody>\n",
       "</table>\n",
       "</div>"
      ],
      "text/plain": [
       "   chatgpt_data_id           twitter_id typename         user_rest_id  \\\n",
       "0           781753  1815534826159779922    Tweet            537778485   \n",
       "1           781754  1815534769121423808    Tweet   879124379451351041   \n",
       "2           781755  1815533426952261976    Tweet  1543154052371922944   \n",
       "3           781758  1815493523640340979    Tweet   952170209955098624   \n",
       "4           781759  1815493125298667594    Tweet  1811099070896738304   \n",
       "\n",
       "                  user_name user_screen_name  user_followers_count  \\\n",
       "0  International Daily News           mggjrb                  7263   \n",
       "1           Amazing Qingdao   QingdaoAmazing                 14166   \n",
       "2     Hon Hai International  zhouguoqing2188                   152   \n",
       "3                 Mr. Hello       Hello_Yar_                   744   \n",
       "4             Time Traveler  time_travel_now                   105   \n",
       "\n",
       "                                            user_url  \\\n",
       "0  https://pbs.twimg.com/profile_banners/53777848...   \n",
       "1  https://pbs.twimg.com/profile_banners/87912437...   \n",
       "2  https://pbs.twimg.com/profile_banners/15431540...   \n",
       "3                                                NaN   \n",
       "4  https://pbs.twimg.com/profile_banners/18110990...   \n",
       "\n",
       "                                           full_text  favorite_count  \\\n",
       "0  On Qingdao Zhongshan Road, a silver-gray drive...               1   \n",
       "1  On Qingdao Zhongshan Road, a silver-gray drive...               1   \n",
       "2  @elonmusk Brother Ma, does your Tesla driverle...               0   \n",
       "3  @visualfeastwang Wow, Driverless car_ China is...               5   \n",
       "4  @Kling_ai Translation: In 2028, the driverless...               0   \n",
       "\n",
       "   bookmark_count  reply_count  retweet_count  quote_count lang  \\\n",
       "0               0            0              0            0   en   \n",
       "1               0            0              1            0   en   \n",
       "2               0            2              0            0   en   \n",
       "3               0            0              0            0   en   \n",
       "4               0            1              0            0   en   \n",
       "\n",
       "                       created_at  keyword      date_start  \\\n",
       "0  Mon Jul 22 23:50:08 +0000 2024      NaN  Driverless Car   \n",
       "1  Mon Jul 22 23:49:54 +0000 2024      NaN  Driverless Car   \n",
       "2  Mon Jul 22 23:44:34 +0000 2024      NaN  Driverless Car   \n",
       "3  Mon Jul 22 21:06:00 +0000 2024      NaN  Driverless Car   \n",
       "4  Mon Jul 22 21:04:25 +0000 2024      NaN  Driverless Car   \n",
       "\n",
       "                             date_end  is_retweet  \n",
       "0  until:2024-07-23 since:2024-06-23          NaN  \n",
       "1  until:2024-07-23 since:2024-06-23          NaN  \n",
       "2  until:2024-07-23 since:2024-06-23          NaN  \n",
       "3  until:2024-07-23 since:2024-06-23          NaN  \n",
       "4  until:2024-07-23 since:2024-06-23          NaN  "
      ]
     },
     "execution_count": 3,
     "metadata": {},
     "output_type": "execute_result"
    }
   ],
   "source": [
    "data.head()"
   ]
  },
  {
   "cell_type": "code",
   "execution_count": 4,
   "id": "73e9a45e-b45c-4552-98da-e1525d167b73",
   "metadata": {},
   "outputs": [
    {
     "data": {
      "text/plain": [
       "Index(['chatgpt_data_id', 'twitter_id', 'typename', 'user_rest_id',\n",
       "       'user_name', 'user_screen_name', 'user_followers_count', 'user_url',\n",
       "       'full_text', 'favorite_count', 'bookmark_count', 'reply_count',\n",
       "       'retweet_count', 'quote_count', 'lang', 'created_at', 'keyword',\n",
       "       'date_start', 'date_end', 'is_retweet'],\n",
       "      dtype='object')"
      ]
     },
     "execution_count": 4,
     "metadata": {},
     "output_type": "execute_result"
    }
   ],
   "source": [
    "data.columns"
   ]
  },
  {
   "cell_type": "code",
   "execution_count": 5,
   "id": "7015527d-9fa6-4903-a8a3-2cc0be991637",
   "metadata": {},
   "outputs": [
    {
     "data": {
      "text/plain": [
       "(50386, 20)"
      ]
     },
     "execution_count": 5,
     "metadata": {},
     "output_type": "execute_result"
    }
   ],
   "source": [
    "data.shape"
   ]
  },
  {
   "cell_type": "code",
   "execution_count": 6,
   "id": "1d6b4900-4925-41ca-8941-f9e5aaed8f14",
   "metadata": {},
   "outputs": [],
   "source": [
    "data = data[data['lang'] == 'en'][['created_at', 'full_text']]\n",
    "data = data.rename(columns={'created_at': 'time', 'full_text': 'text'})"
   ]
  },
  {
   "cell_type": "code",
   "execution_count": 7,
   "id": "b33b834e-2bbc-4d61-9379-5578f168d125",
   "metadata": {},
   "outputs": [
    {
     "data": {
      "text/html": [
       "<div>\n",
       "<style scoped>\n",
       "    .dataframe tbody tr th:only-of-type {\n",
       "        vertical-align: middle;\n",
       "    }\n",
       "\n",
       "    .dataframe tbody tr th {\n",
       "        vertical-align: top;\n",
       "    }\n",
       "\n",
       "    .dataframe thead th {\n",
       "        text-align: right;\n",
       "    }\n",
       "</style>\n",
       "<table border=\"1\" class=\"dataframe\">\n",
       "  <thead>\n",
       "    <tr style=\"text-align: right;\">\n",
       "      <th></th>\n",
       "      <th>time</th>\n",
       "      <th>text</th>\n",
       "    </tr>\n",
       "  </thead>\n",
       "  <tbody>\n",
       "    <tr>\n",
       "      <th>0</th>\n",
       "      <td>Mon Jul 22 23:50:08 +0000 2024</td>\n",
       "      <td>On Qingdao Zhongshan Road, a silver-gray drive...</td>\n",
       "    </tr>\n",
       "    <tr>\n",
       "      <th>1</th>\n",
       "      <td>Mon Jul 22 23:49:54 +0000 2024</td>\n",
       "      <td>On Qingdao Zhongshan Road, a silver-gray drive...</td>\n",
       "    </tr>\n",
       "    <tr>\n",
       "      <th>2</th>\n",
       "      <td>Mon Jul 22 23:44:34 +0000 2024</td>\n",
       "      <td>@elonmusk Brother Ma, does your Tesla driverle...</td>\n",
       "    </tr>\n",
       "    <tr>\n",
       "      <th>3</th>\n",
       "      <td>Mon Jul 22 21:06:00 +0000 2024</td>\n",
       "      <td>@visualfeastwang Wow, Driverless car_ China is...</td>\n",
       "    </tr>\n",
       "    <tr>\n",
       "      <th>4</th>\n",
       "      <td>Mon Jul 22 21:04:25 +0000 2024</td>\n",
       "      <td>@Kling_ai Translation: In 2028, the driverless...</td>\n",
       "    </tr>\n",
       "  </tbody>\n",
       "</table>\n",
       "</div>"
      ],
      "text/plain": [
       "                             time  \\\n",
       "0  Mon Jul 22 23:50:08 +0000 2024   \n",
       "1  Mon Jul 22 23:49:54 +0000 2024   \n",
       "2  Mon Jul 22 23:44:34 +0000 2024   \n",
       "3  Mon Jul 22 21:06:00 +0000 2024   \n",
       "4  Mon Jul 22 21:04:25 +0000 2024   \n",
       "\n",
       "                                                text  \n",
       "0  On Qingdao Zhongshan Road, a silver-gray drive...  \n",
       "1  On Qingdao Zhongshan Road, a silver-gray drive...  \n",
       "2  @elonmusk Brother Ma, does your Tesla driverle...  \n",
       "3  @visualfeastwang Wow, Driverless car_ China is...  \n",
       "4  @Kling_ai Translation: In 2028, the driverless...  "
      ]
     },
     "execution_count": 7,
     "metadata": {},
     "output_type": "execute_result"
    }
   ],
   "source": [
    "data = data.drop_duplicates()\n",
    "\n",
    "data = data.reset_index(drop=True)\n",
    "\n",
    "data.head()"
   ]
  },
  {
   "cell_type": "code",
   "execution_count": 8,
   "id": "daee4f43-8487-4abc-8031-bbb54ef421f1",
   "metadata": {},
   "outputs": [
    {
     "data": {
      "text/plain": [
       "(45713, 2)"
      ]
     },
     "execution_count": 8,
     "metadata": {},
     "output_type": "execute_result"
    }
   ],
   "source": [
    "data.shape"
   ]
  },
  {
   "cell_type": "code",
   "execution_count": 9,
   "id": "5cdb6267-8505-4761-8278-9ede58850c61",
   "metadata": {},
   "outputs": [],
   "source": [
    "# Helper functions for preprocessing\n",
    "def nltk_tag_to_wordnet_tag(nltk_tag):\n",
    "    if nltk_tag.startswith('J'):  # ADJECTIVE\n",
    "        return wordnet.ADJ\n",
    "    elif nltk_tag.startswith('V'):  # VERB\n",
    "        return wordnet.VERB\n",
    "    elif nltk_tag.startswith('N'):  # NOUN\n",
    "        return wordnet.NOUN\n",
    "    elif nltk_tag.startswith('R'):  # ADVERB\n",
    "        return wordnet.ADV\n",
    "    else:\n",
    "        return None\n",
    "\n",
    "def lemmatize_sentence(sentence):\n",
    "    nltk_tagged = nltk.pos_tag(nltk.word_tokenize(sentence))\n",
    "    wordnet_tagged = map(lambda x: (x[0], nltk_tag_to_wordnet_tag(x[1])), nltk_tagged)\n",
    "    lemmatizer = WordNetLemmatizer()\n",
    "    lemmatized_sentence = []\n",
    "    for word, tag in wordnet_tagged:\n",
    "        if tag is None:\n",
    "            lemmatized_sentence.append(word)\n",
    "        else:\n",
    "            lemmatized_sentence.append(lemmatizer.lemmatize(word, tag))\n",
    "    return \" \".join(lemmatized_sentence)"
   ]
  },
  {
   "cell_type": "code",
   "execution_count": 10,
   "id": "13682419-baa2-4784-a8e0-9038baa0632f",
   "metadata": {},
   "outputs": [],
   "source": [
    "def preprocess_text(text):\n",
    "    if isinstance(text, float):  # Handle NaN or empty values\n",
    "        text = \"\"\n",
    "    # Expand contractions\n",
    "    text = contractions.fix(text)\n",
    "    # Remove URLs\n",
    "    text = re.sub(r'http\\S+|www\\S+|https\\S+', '', text, flags=re.MULTILINE)\n",
    "    # Remove hashtags and mentions\n",
    "    text = re.sub(r'@\\w+|#\\w+', '', text)\n",
    "    # Remove punctuation, numbers, and special characters\n",
    "    text = re.sub(r'[^a-zA-Z\\s#@]', '', text)\n",
    "    # Convert to lowercase\n",
    "    text = text.lower()\n",
    "    # Remove extra whitespace\n",
    "    text = re.sub(r'\\s+', ' ', text).strip()\n",
    "    # Tokenize text\n",
    "    words = nltk.word_tokenize(text)\n",
    "    # Remove stopwords\n",
    "    stop_words = set(stopwords.words('english'))\n",
    "    words = [word for word in words if word not in stop_words]\n",
    "    # Lemmatize words\n",
    "    lemmatized_text = lemmatize_sentence(' '.join(words))\n",
    "    return lemmatized_text"
   ]
  },
  {
   "cell_type": "code",
   "execution_count": 11,
   "id": "11d949b2-aacf-4d35-891a-90b3ec266f1e",
   "metadata": {},
   "outputs": [],
   "source": [
    "data['processed_text'] = data['text'].apply(preprocess_text)"
   ]
  },
  {
   "cell_type": "code",
   "execution_count": 12,
   "id": "a9054495-2f3b-459b-87a3-b485e3a94eac",
   "metadata": {},
   "outputs": [
    {
     "data": {
      "text/html": [
       "<div>\n",
       "<style scoped>\n",
       "    .dataframe tbody tr th:only-of-type {\n",
       "        vertical-align: middle;\n",
       "    }\n",
       "\n",
       "    .dataframe tbody tr th {\n",
       "        vertical-align: top;\n",
       "    }\n",
       "\n",
       "    .dataframe thead th {\n",
       "        text-align: right;\n",
       "    }\n",
       "</style>\n",
       "<table border=\"1\" class=\"dataframe\">\n",
       "  <thead>\n",
       "    <tr style=\"text-align: right;\">\n",
       "      <th></th>\n",
       "      <th>time</th>\n",
       "      <th>text</th>\n",
       "      <th>processed_text</th>\n",
       "    </tr>\n",
       "  </thead>\n",
       "  <tbody>\n",
       "    <tr>\n",
       "      <th>0</th>\n",
       "      <td>Mon Jul 22 23:50:08 +0000 2024</td>\n",
       "      <td>On Qingdao Zhongshan Road, a silver-gray drive...</td>\n",
       "      <td>qingdao zhongshan road silvergray driverless c...</td>\n",
       "    </tr>\n",
       "    <tr>\n",
       "      <th>1</th>\n",
       "      <td>Mon Jul 22 23:49:54 +0000 2024</td>\n",
       "      <td>On Qingdao Zhongshan Road, a silver-gray drive...</td>\n",
       "      <td>qingdao zhongshan road silvergray driverless c...</td>\n",
       "    </tr>\n",
       "    <tr>\n",
       "      <th>2</th>\n",
       "      <td>Mon Jul 22 23:44:34 +0000 2024</td>\n",
       "      <td>@elonmusk Brother Ma, does your Tesla driverle...</td>\n",
       "      <td>brother tesla driverless car support core paym...</td>\n",
       "    </tr>\n",
       "    <tr>\n",
       "      <th>3</th>\n",
       "      <td>Mon Jul 22 21:06:00 +0000 2024</td>\n",
       "      <td>@visualfeastwang Wow, Driverless car_ China is...</td>\n",
       "      <td>wow driverless car china work next level aur y...</td>\n",
       "    </tr>\n",
       "    <tr>\n",
       "      <th>4</th>\n",
       "      <td>Mon Jul 22 21:04:25 +0000 2024</td>\n",
       "      <td>@Kling_ai Translation: In 2028, the driverless...</td>\n",
       "      <td>translation driverless car enter united state ...</td>\n",
       "    </tr>\n",
       "  </tbody>\n",
       "</table>\n",
       "</div>"
      ],
      "text/plain": [
       "                             time  \\\n",
       "0  Mon Jul 22 23:50:08 +0000 2024   \n",
       "1  Mon Jul 22 23:49:54 +0000 2024   \n",
       "2  Mon Jul 22 23:44:34 +0000 2024   \n",
       "3  Mon Jul 22 21:06:00 +0000 2024   \n",
       "4  Mon Jul 22 21:04:25 +0000 2024   \n",
       "\n",
       "                                                text  \\\n",
       "0  On Qingdao Zhongshan Road, a silver-gray drive...   \n",
       "1  On Qingdao Zhongshan Road, a silver-gray drive...   \n",
       "2  @elonmusk Brother Ma, does your Tesla driverle...   \n",
       "3  @visualfeastwang Wow, Driverless car_ China is...   \n",
       "4  @Kling_ai Translation: In 2028, the driverless...   \n",
       "\n",
       "                                      processed_text  \n",
       "0  qingdao zhongshan road silvergray driverless c...  \n",
       "1  qingdao zhongshan road silvergray driverless c...  \n",
       "2  brother tesla driverless car support core paym...  \n",
       "3  wow driverless car china work next level aur y...  \n",
       "4  translation driverless car enter united state ...  "
      ]
     },
     "execution_count": 12,
     "metadata": {},
     "output_type": "execute_result"
    }
   ],
   "source": [
    "data.head()"
   ]
  },
  {
   "cell_type": "code",
   "execution_count": 13,
   "id": "a9cb442e-1bd4-40ed-aa1c-191c18d9aa0f",
   "metadata": {},
   "outputs": [],
   "source": [
    "from textblob import TextBlob\n",
    "\n",
    "# Perform sentiment analysis and classify\n",
    "def analyze_sentiment(text):\n",
    "    if isinstance(text, float):  # Handle empty or NaN values\n",
    "        return 0.0\n",
    "    return TextBlob(text).sentiment.polarity\n",
    "\n",
    "# Add sentiment scores to the dataset\n",
    "data['textblob_score'] = data['processed_text'].apply(analyze_sentiment)"
   ]
  },
  {
   "cell_type": "code",
   "execution_count": 14,
   "id": "e3c6af96-368a-4352-9a59-372d5e8f7e90",
   "metadata": {},
   "outputs": [],
   "source": [
    "# Categorize sentiment based on the score\n",
    "def classify_sentiment(score):\n",
    "    if score < -0.1:\n",
    "        return 'negative'\n",
    "    elif -0.1 <= score <= 0.1:\n",
    "        return 'neutral'\n",
    "    else:\n",
    "        return 'positive'\n",
    "\n",
    "data['textblob_label'] = data['textblob_score'].apply(classify_sentiment)"
   ]
  },
  {
   "cell_type": "code",
   "execution_count": 15,
   "id": "daeaa75f-600b-4249-a93e-2d2d1d362f53",
   "metadata": {},
   "outputs": [
    {
     "data": {
      "text/plain": [
       "textblob_label\n",
       "neutral     19748\n",
       "positive    17868\n",
       "negative     8097\n",
       "Name: count, dtype: int64"
      ]
     },
     "execution_count": 15,
     "metadata": {},
     "output_type": "execute_result"
    }
   ],
   "source": [
    "data['textblob_label'].value_counts()"
   ]
  },
  {
   "cell_type": "code",
   "execution_count": 16,
   "id": "5a374677-4922-402e-8f06-8568934125be",
   "metadata": {},
   "outputs": [],
   "source": [
    "from nltk.sentiment.vader import SentimentIntensityAnalyzer\n",
    "\n",
    "# Initialize the VADER sentiment analyzer\n",
    "vader_analyzer = SentimentIntensityAnalyzer()"
   ]
  },
  {
   "cell_type": "code",
   "execution_count": 17,
   "id": "e07a6ae9-4a23-4f03-bf3b-e669e756c930",
   "metadata": {},
   "outputs": [],
   "source": [
    "# Perform sentiment analysis using VADER and classify\n",
    "def analyze_vader_sentiment(text):\n",
    "    if isinstance(text, float):  # Handle empty or NaN values\n",
    "        return 0.0\n",
    "    return vader_analyzer.polarity_scores(text)['compound']\n",
    "\n",
    "# Add VADER sentiment scores to the dataset\n",
    "data['VADER_score'] = data['processed_text'].apply(analyze_vader_sentiment)"
   ]
  },
  {
   "cell_type": "code",
   "execution_count": 18,
   "id": "fec0a4d7-d7b2-457c-9f9a-abfabce86ea1",
   "metadata": {},
   "outputs": [],
   "source": [
    "# Categorize sentiment based on the VADER score\n",
    "def classify_vader_sentiment(score):\n",
    "    if score < -0.1:\n",
    "        return 'negative'\n",
    "    elif -0.1 <= score <= 0.1:\n",
    "        return 'neutral'\n",
    "    else:\n",
    "        return 'positive'\n",
    "\n",
    "data['VADER_label'] = data['VADER_score'].apply(classify_vader_sentiment)"
   ]
  },
  {
   "cell_type": "code",
   "execution_count": 19,
   "id": "c493e2b4-cafa-42da-a1a2-1e4b1289fb5b",
   "metadata": {},
   "outputs": [
    {
     "data": {
      "text/plain": [
       "VADER_label\n",
       "positive    19823\n",
       "negative    17297\n",
       "neutral      8593\n",
       "Name: count, dtype: int64"
      ]
     },
     "execution_count": 19,
     "metadata": {},
     "output_type": "execute_result"
    }
   ],
   "source": [
    "data['VADER_label'].value_counts()"
   ]
  },
  {
   "cell_type": "code",
   "execution_count": 20,
   "id": "cdc089a2-a26a-40d8-9817-ef22dfd905dc",
   "metadata": {},
   "outputs": [],
   "source": [
    "# Calculate the average of TextBlob and VADER scores\n",
    "data['combined_score'] = data[['textblob_score', 'VADER_score']].mean(axis=1)"
   ]
  },
  {
   "cell_type": "code",
   "execution_count": 21,
   "id": "4ba1513c-edf5-4522-a0a6-47298b761a9b",
   "metadata": {},
   "outputs": [],
   "source": [
    "# Categorize sentiment based on the combined score\n",
    "def classify_combined_sentiment(score):\n",
    "    if score < -0.1:\n",
    "        return 'negative'\n",
    "    elif -0.1 <= score <= 0.1:\n",
    "        return 'neutral'\n",
    "    else:\n",
    "        return 'positive'\n",
    "\n",
    "data['label'] = data['combined_score'].apply(classify_combined_sentiment)"
   ]
  },
  {
   "cell_type": "code",
   "execution_count": 22,
   "id": "5f5df7b6-7d8e-43df-a8e5-2c7d8ec67419",
   "metadata": {},
   "outputs": [
    {
     "data": {
      "text/plain": [
       "label\n",
       "positive    20320\n",
       "negative    15336\n",
       "neutral     10057\n",
       "Name: count, dtype: int64"
      ]
     },
     "execution_count": 22,
     "metadata": {},
     "output_type": "execute_result"
    }
   ],
   "source": [
    "# Count the occurrences of each label\n",
    "data['label'].value_counts()"
   ]
  },
  {
   "cell_type": "code",
   "execution_count": 23,
   "id": "f6ce3849-35db-4f50-a68f-83b82e85076f",
   "metadata": {},
   "outputs": [],
   "source": [
    "from datetime import datetime\n",
    "\n",
    "# Convert 'time' column to ISO 8601 format without timezone\n",
    "def convert_to_iso8601(date_str):\n",
    "    try:\n",
    "        # Parse the original format\n",
    "        parsed_date = datetime.strptime(date_str, '%a %b %d %H:%M:%S %z %Y')\n",
    "        # Convert to ISO 8601 format without timezone\n",
    "        return parsed_date.strftime('%Y-%m-%dT%H:%M:%S')\n",
    "    except ValueError:\n",
    "        return None  # Handle invalid dates gracefully\n",
    "\n",
    "data['time'] = data['time'].apply(convert_to_iso8601)"
   ]
  },
  {
   "cell_type": "code",
   "execution_count": 24,
   "id": "8d904ad8-890c-4fbd-94ce-094a7212db2d",
   "metadata": {},
   "outputs": [
    {
     "data": {
      "text/html": [
       "<div>\n",
       "<style scoped>\n",
       "    .dataframe tbody tr th:only-of-type {\n",
       "        vertical-align: middle;\n",
       "    }\n",
       "\n",
       "    .dataframe tbody tr th {\n",
       "        vertical-align: top;\n",
       "    }\n",
       "\n",
       "    .dataframe thead th {\n",
       "        text-align: right;\n",
       "    }\n",
       "</style>\n",
       "<table border=\"1\" class=\"dataframe\">\n",
       "  <thead>\n",
       "    <tr style=\"text-align: right;\">\n",
       "      <th></th>\n",
       "      <th>time</th>\n",
       "      <th>text</th>\n",
       "      <th>processed_text</th>\n",
       "      <th>textblob_score</th>\n",
       "      <th>textblob_label</th>\n",
       "      <th>VADER_score</th>\n",
       "      <th>VADER_label</th>\n",
       "      <th>combined_score</th>\n",
       "      <th>label</th>\n",
       "    </tr>\n",
       "  </thead>\n",
       "  <tbody>\n",
       "    <tr>\n",
       "      <th>0</th>\n",
       "      <td>2024-07-22T23:50:08</td>\n",
       "      <td>On Qingdao Zhongshan Road, a silver-gray drive...</td>\n",
       "      <td>qingdao zhongshan road silvergray driverless c...</td>\n",
       "      <td>-0.050000</td>\n",
       "      <td>neutral</td>\n",
       "      <td>0.0000</td>\n",
       "      <td>neutral</td>\n",
       "      <td>-0.025000</td>\n",
       "      <td>neutral</td>\n",
       "    </tr>\n",
       "    <tr>\n",
       "      <th>1</th>\n",
       "      <td>2024-07-22T23:49:54</td>\n",
       "      <td>On Qingdao Zhongshan Road, a silver-gray drive...</td>\n",
       "      <td>qingdao zhongshan road silvergray driverless c...</td>\n",
       "      <td>-0.050000</td>\n",
       "      <td>neutral</td>\n",
       "      <td>0.0000</td>\n",
       "      <td>neutral</td>\n",
       "      <td>-0.025000</td>\n",
       "      <td>neutral</td>\n",
       "    </tr>\n",
       "    <tr>\n",
       "      <th>2</th>\n",
       "      <td>2024-07-22T23:44:34</td>\n",
       "      <td>@elonmusk Brother Ma, does your Tesla driverle...</td>\n",
       "      <td>brother tesla driverless car support core paym...</td>\n",
       "      <td>0.000000</td>\n",
       "      <td>neutral</td>\n",
       "      <td>0.4019</td>\n",
       "      <td>positive</td>\n",
       "      <td>0.200950</td>\n",
       "      <td>positive</td>\n",
       "    </tr>\n",
       "    <tr>\n",
       "      <th>3</th>\n",
       "      <td>2024-07-22T21:06:00</td>\n",
       "      <td>@visualfeastwang Wow, Driverless car_ China is...</td>\n",
       "      <td>wow driverless car china work next level aur y...</td>\n",
       "      <td>0.050000</td>\n",
       "      <td>neutral</td>\n",
       "      <td>0.8126</td>\n",
       "      <td>positive</td>\n",
       "      <td>0.431300</td>\n",
       "      <td>positive</td>\n",
       "    </tr>\n",
       "    <tr>\n",
       "      <th>4</th>\n",
       "      <td>2024-07-22T21:04:25</td>\n",
       "      <td>@Kling_ai Translation: In 2028, the driverless...</td>\n",
       "      <td>translation driverless car enter united state ...</td>\n",
       "      <td>0.104167</td>\n",
       "      <td>positive</td>\n",
       "      <td>0.0258</td>\n",
       "      <td>neutral</td>\n",
       "      <td>0.064983</td>\n",
       "      <td>neutral</td>\n",
       "    </tr>\n",
       "    <tr>\n",
       "      <th>...</th>\n",
       "      <td>...</td>\n",
       "      <td>...</td>\n",
       "      <td>...</td>\n",
       "      <td>...</td>\n",
       "      <td>...</td>\n",
       "      <td>...</td>\n",
       "      <td>...</td>\n",
       "      <td>...</td>\n",
       "      <td>...</td>\n",
       "    </tr>\n",
       "    <tr>\n",
       "      <th>45708</th>\n",
       "      <td>2024-09-26T17:26:25</td>\n",
       "      <td>@CollinRugg I've been saying it for years now....</td>\n",
       "      <td>say year read graffiti wall say read graffiti ...</td>\n",
       "      <td>0.358333</td>\n",
       "      <td>positive</td>\n",
       "      <td>0.4404</td>\n",
       "      <td>positive</td>\n",
       "      <td>0.399367</td>\n",
       "      <td>positive</td>\n",
       "    </tr>\n",
       "    <tr>\n",
       "      <th>45709</th>\n",
       "      <td>2024-09-28T22:50:08</td>\n",
       "      <td>@Tazerface16 He lied about his cars¡¯ self-dri...</td>\n",
       "      <td>lied car selfdriving year ago people buy car t...</td>\n",
       "      <td>0.000000</td>\n",
       "      <td>neutral</td>\n",
       "      <td>-0.6705</td>\n",
       "      <td>negative</td>\n",
       "      <td>-0.335250</td>\n",
       "      <td>negative</td>\n",
       "    </tr>\n",
       "    <tr>\n",
       "      <th>45710</th>\n",
       "      <td>2024-09-28T22:42:52</td>\n",
       "      <td>@WholeMarsBlog A self driving car with no stea...</td>\n",
       "      <td>self drive car stearing wheel whatever importa...</td>\n",
       "      <td>0.400000</td>\n",
       "      <td>positive</td>\n",
       "      <td>0.2023</td>\n",
       "      <td>positive</td>\n",
       "      <td>0.301150</td>\n",
       "      <td>positive</td>\n",
       "    </tr>\n",
       "    <tr>\n",
       "      <th>45711</th>\n",
       "      <td>2024-09-28T22:38:15</td>\n",
       "      <td>Big news for Waymo! The self-driving car pione...</td>\n",
       "      <td>big news waymo selfdriving car pioneer expand ...</td>\n",
       "      <td>0.050000</td>\n",
       "      <td>neutral</td>\n",
       "      <td>0.3182</td>\n",
       "      <td>positive</td>\n",
       "      <td>0.184100</td>\n",
       "      <td>positive</td>\n",
       "    </tr>\n",
       "    <tr>\n",
       "      <th>45712</th>\n",
       "      <td>2024-09-28T22:14:04</td>\n",
       "      <td>I was using my ASS (Actually Smart Summon) and...</td>\n",
       "      <td>use as actually smart summon fsd full self dri...</td>\n",
       "      <td>0.202857</td>\n",
       "      <td>positive</td>\n",
       "      <td>0.2230</td>\n",
       "      <td>positive</td>\n",
       "      <td>0.212929</td>\n",
       "      <td>positive</td>\n",
       "    </tr>\n",
       "  </tbody>\n",
       "</table>\n",
       "<p>45713 rows × 9 columns</p>\n",
       "</div>"
      ],
      "text/plain": [
       "                      time                                               text  \\\n",
       "0      2024-07-22T23:50:08  On Qingdao Zhongshan Road, a silver-gray drive...   \n",
       "1      2024-07-22T23:49:54  On Qingdao Zhongshan Road, a silver-gray drive...   \n",
       "2      2024-07-22T23:44:34  @elonmusk Brother Ma, does your Tesla driverle...   \n",
       "3      2024-07-22T21:06:00  @visualfeastwang Wow, Driverless car_ China is...   \n",
       "4      2024-07-22T21:04:25  @Kling_ai Translation: In 2028, the driverless...   \n",
       "...                    ...                                                ...   \n",
       "45708  2024-09-26T17:26:25  @CollinRugg I've been saying it for years now....   \n",
       "45709  2024-09-28T22:50:08  @Tazerface16 He lied about his cars¡¯ self-dri...   \n",
       "45710  2024-09-28T22:42:52  @WholeMarsBlog A self driving car with no stea...   \n",
       "45711  2024-09-28T22:38:15  Big news for Waymo! The self-driving car pione...   \n",
       "45712  2024-09-28T22:14:04  I was using my ASS (Actually Smart Summon) and...   \n",
       "\n",
       "                                          processed_text  textblob_score  \\\n",
       "0      qingdao zhongshan road silvergray driverless c...       -0.050000   \n",
       "1      qingdao zhongshan road silvergray driverless c...       -0.050000   \n",
       "2      brother tesla driverless car support core paym...        0.000000   \n",
       "3      wow driverless car china work next level aur y...        0.050000   \n",
       "4      translation driverless car enter united state ...        0.104167   \n",
       "...                                                  ...             ...   \n",
       "45708  say year read graffiti wall say read graffiti ...        0.358333   \n",
       "45709  lied car selfdriving year ago people buy car t...        0.000000   \n",
       "45710  self drive car stearing wheel whatever importa...        0.400000   \n",
       "45711  big news waymo selfdriving car pioneer expand ...        0.050000   \n",
       "45712  use as actually smart summon fsd full self dri...        0.202857   \n",
       "\n",
       "      textblob_label  VADER_score VADER_label  combined_score     label  \n",
       "0            neutral       0.0000     neutral       -0.025000   neutral  \n",
       "1            neutral       0.0000     neutral       -0.025000   neutral  \n",
       "2            neutral       0.4019    positive        0.200950  positive  \n",
       "3            neutral       0.8126    positive        0.431300  positive  \n",
       "4           positive       0.0258     neutral        0.064983   neutral  \n",
       "...              ...          ...         ...             ...       ...  \n",
       "45708       positive       0.4404    positive        0.399367  positive  \n",
       "45709        neutral      -0.6705    negative       -0.335250  negative  \n",
       "45710       positive       0.2023    positive        0.301150  positive  \n",
       "45711        neutral       0.3182    positive        0.184100  positive  \n",
       "45712       positive       0.2230    positive        0.212929  positive  \n",
       "\n",
       "[45713 rows x 9 columns]"
      ]
     },
     "execution_count": 24,
     "metadata": {},
     "output_type": "execute_result"
    }
   ],
   "source": [
    "data"
   ]
  },
  {
   "cell_type": "code",
   "execution_count": 25,
   "id": "bfce7672-22f8-413f-898e-80a9e00addfa",
   "metadata": {},
   "outputs": [],
   "source": [
    "import matplotlib.pyplot as plt"
   ]
  },
  {
   "cell_type": "code",
   "execution_count": 26,
   "id": "3b04f500-b3d2-4581-9f64-c4f0da3ddbdc",
   "metadata": {},
   "outputs": [
    {
     "data": {
      "image/png": "[encoded data removed]",
      "text/plain": [
       "<Figure size 1000x600 with 1 Axes>"
      ]
     },
     "metadata": {},
     "output_type": "display_data"
    }
   ],
   "source": [
    "# Count the label occurrences for each method\n",
    "textblob_counts = data['textblob_label'].value_counts().reindex(['positive', 'neutral', 'negative'], fill_value=0)\n",
    "vader_counts = data['VADER_label'].value_counts().reindex(['positive', 'neutral', 'negative'], fill_value=0)\n",
    "combined_counts = data['label'].value_counts().reindex(['positive', 'neutral', 'negative'], fill_value=0)\n",
    "\n",
    "# Combine the counts into a DataFrame for plotting\n",
    "counts_df = pd.DataFrame({\n",
    "    'TextBlob': textblob_counts,\n",
    "    'VADER': vader_counts,\n",
    "    'Combined': combined_counts\n",
    "}).T\n",
    "\n",
    "# Plotting\n",
    "labels = ['positive', 'neutral', 'negative']\n",
    "colors = ['red', 'gray', 'blue']  # Use specified colors\n",
    "counts_df.plot(kind='bar', color=colors, figsize=(10, 6))\n",
    "\n",
    "# Customizing the plot\n",
    "plt.xticks(range(len(counts_df)), ['TextBlob', 'VADER', 'Combined'], rotation=0)\n",
    "plt.yticks(range(0, counts_df.values.max() + 5000, 5000), labels=range(0, counts_df.values.max() + 5000, 5000))\n",
    "plt.ylabel('Count')\n",
    "plt.title('Sentiment Label Counts')\n",
    "plt.legend(['pos', 'neutral', 'neg'], loc='upper right')\n",
    "\n",
    "# Show the plot\n",
    "plt.tight_layout()\n",
    "plt.show()"
   ]
  },
  {
   "cell_type": "code",
   "execution_count": 27,
   "id": "dfdde89d-edf5-4248-8cb2-4efbc11ab73c",
   "metadata": {},
   "outputs": [
    {
     "name": "stderr",
     "output_type": "stream",
     "text": [
      "C:\\Users\\Administrator\\AppData\\Local\\Temp\\ipykernel_10788\\3019719183.py:6: SettingWithCopyWarning: \n",
      "A value is trying to be set on a copy of a slice from a DataFrame.\n",
      "Try using .loc[row_indexer,col_indexer] = value instead\n",
      "\n",
      "See the caveats in the documentation: https://pandas.pydata.org/pandas-docs/stable/user_guide/indexing.html#returning-a-view-versus-a-copy\n",
      "  filtered_data['week'] = filtered_data['time'].dt.to_period('W').apply(lambda r: r.start_time)\n"
     ]
    },
    {
     "data": {
      "image/png": "[encoded data removed]",
      "text/plain": [
       "<Figure size 1200x600 with 1 Axes>"
      ]
     },
     "metadata": {},
     "output_type": "display_data"
    }
   ],
   "source": [
    "# Filter data to include only rows where the time is in 2024 or later\n",
    "data['time'] = pd.to_datetime(data['time'], errors='coerce')  \n",
    "filtered_data = data[data['time'] >= pd.Timestamp('2024-01-01')]\n",
    "\n",
    "# Group the filtered data by 7-day intervals and count the label occurrences\n",
    "filtered_data['week'] = filtered_data['time'].dt.to_period('W').apply(lambda r: r.start_time)\n",
    "grouped = filtered_data.groupby('week')['label'].value_counts().unstack(fill_value=0)\n",
    "\n",
    "# Create the stacked bar plot\n",
    "fig, ax = plt.subplots(figsize=(12, 6))\n",
    "labels = ['positive', 'neutral', 'negative']\n",
    "colors = ['red', 'gray', 'blue']\n",
    "\n",
    "bottom = None\n",
    "for label, color in zip(labels, colors):\n",
    "    if bottom is None:\n",
    "        ax.bar(grouped.index.strftime('%Y-%m-%d'), grouped[label], label=label, color=color)\n",
    "        bottom = grouped[label]\n",
    "    else:\n",
    "        ax.bar(grouped.index.strftime('%Y-%m-%d'), grouped[label], label=label, bottom=bottom, color=color)\n",
    "        bottom += grouped[label]\n",
    "\n",
    "# Customize the plot\n",
    "ax.set_xlabel('Week')\n",
    "ax.set_ylabel('Count')\n",
    "ax.set_title('Sentiment Counts Over Time (7-Day Intervals)')\n",
    "ax.legend(['pos', 'neutral', 'neg'], loc='upper right')\n",
    "plt.xticks(rotation=45)\n",
    "plt.tight_layout()\n",
    "\n",
    "# Show the plot\n",
    "plt.show()"
   ]
  },
  {
   "cell_type": "code",
   "execution_count": 28,
   "id": "cd989711-7359-4480-be80-c467bb42b4b5",
   "metadata": {},
   "outputs": [],
   "source": [
    "from sklearn.model_selection import train_test_split\n",
    "import numpy as np\n",
    "\n",
    "# Set a random seed for reproducibility\n",
    "random_seed = 42\n",
    "np.random.seed(random_seed)\n",
    "\n",
    "data['split'] = None\n",
    "\n",
    "# Stratify the split based on the 'label' column\n",
    "train_data, temp_data = train_test_split(data, test_size=0.3, stratify=data['label'], random_state=42)\n",
    "val_data, test_data = train_test_split(temp_data, test_size=0.5, stratify=temp_data['label'], random_state=42)\n",
    "\n",
    "# Assign split labels\n",
    "data.loc[train_data.index, 'split'] = 'train'\n",
    "data.loc[val_data.index, 'split'] = 'val'\n",
    "data.loc[test_data.index, 'split'] = 'test'"
   ]
  },
  {
   "cell_type": "code",
   "execution_count": 29,
   "id": "623fe73d-8983-4bbd-8fab-5d89a3ca45bb",
   "metadata": {},
   "outputs": [
    {
     "data": {
      "text/plain": [
       "split\n",
       "train    31999\n",
       "test      6857\n",
       "val       6857\n",
       "Name: count, dtype: int64"
      ]
     },
     "execution_count": 29,
     "metadata": {},
     "output_type": "execute_result"
    }
   ],
   "source": [
    "data['split'].value_counts()"
   ]
  },
  {
   "cell_type": "code",
   "execution_count": 30,
   "id": "b6152660-d371-40b9-8003-d891ef9aa4cc",
   "metadata": {},
   "outputs": [
    {
     "data": {
      "text/plain": [
       "label     split\n",
       "negative  train    10735\n",
       "          test      2301\n",
       "          val       2300\n",
       "neutral   train     7040\n",
       "          val       1509\n",
       "          test      1508\n",
       "positive  train    14224\n",
       "          test      3048\n",
       "          val       3048\n",
       "Name: count, dtype: int64"
      ]
     },
     "execution_count": 30,
     "metadata": {},
     "output_type": "execute_result"
    }
   ],
   "source": [
    "data.groupby('label')['split'].value_counts()"
   ]
  },
  {
   "cell_type": "code",
   "execution_count": 31,
   "id": "8d603deb-ad40-4d52-a91d-7eb964c2c7ac",
   "metadata": {},
   "outputs": [],
   "source": [
    "data.to_csv('data_preprocess.csv', index=False)"
   ]
  },
  {
   "cell_type": "code",
   "execution_count": null,
   "id": "0ccd6739-00cd-4f1e-9397-b5de2750550f",
   "metadata": {},
   "outputs": [],
   "source": []
  }
 ],
 "metadata": {
  "kernelspec": {
   "display_name": "Python 3 (ipykernel)",
   "language": "python",
   "name": "python3"
  },
  "language_info": {
   "codemirror_mode": {
    "name": "ipython",
    "version": 3
   },
   "file_extension": ".py",
   "mimetype": "text/x-python",
   "name": "python",
   "nbconvert_exporter": "python",
   "pygments_lexer": "ipython3",
   "version": "3.12.3"
  }
 },
 "nbformat": 4,
 "nbformat_minor": 5
}
